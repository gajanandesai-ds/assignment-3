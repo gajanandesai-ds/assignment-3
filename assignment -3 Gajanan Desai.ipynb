{
 "cells": [
  {
   "cell_type": "raw",
   "id": "e4398b4c",
   "metadata": {},
   "source": [
    "1. Why are function advantageous to have in programs?\n",
    "Ans: Function reduce the need for duplicate code. This make programs shorter easier to read and easier to update."
   ]
  },
  {
   "cell_type": "code",
   "execution_count": null,
   "id": "98b5db2c",
   "metadata": {},
   "outputs": [],
   "source": [
    "2. When does the code in a function runs: when it's specified or when it's called?\n",
    "Ans: The code in function executes when the function is called. not when the function is defiend."
   ]
  },
  {
   "cell_type": "code",
   "execution_count": null,
   "id": "9c3bfb91",
   "metadata": {},
   "outputs": [],
   "source": [
    "3. What statement creates a function?\n",
    "Ans: the def statement defined[that is creates] a function."
   ]
  },
  {
   "cell_type": "code",
   "execution_count": null,
   "id": "41960456",
   "metadata": {},
   "outputs": [],
   "source": [
    "4. what is differnt between a function and a function call?\n",
    "Ans: A function consists of the def statement and code in its def clause.\n",
    "    A function call is what moves the program execution into the function, and \n",
    "    the function call evalutes to the function return value."
   ]
  },
  {
   "cell_type": "code",
   "execution_count": null,
   "id": "3da0516a",
   "metadata": {},
   "outputs": [],
   "source": [
    "5. how many global scope are there in a python program? how many local scopes?\n",
    "Ans: There is one global scope and a local scope is created whenever a function is called."
   ]
  },
  {
   "cell_type": "code",
   "execution_count": null,
   "id": "0bb4116e",
   "metadata": {},
   "outputs": [],
   "source": [
    "6. what happens to variable in a local scope when a fuction call returns?\n",
    "Ans. When a function returns the local scope is destroyed, and all the variable in it are forgotten."
   ]
  },
  {
   "cell_type": "code",
   "execution_count": null,
   "id": "63d47e8c",
   "metadata": {},
   "outputs": [],
   "source": [
    "7. what is the concept of a return value?is it possible to have a return value in an expression/\n",
    "Ans: A return value is the value that a function call evalutes to like any value, a return value can be used \n",
    "     as part of an expression."
   ]
  },
  {
   "cell_type": "code",
   "execution_count": null,
   "id": "932dab11",
   "metadata": {},
   "outputs": [],
   "source": [
    "8. If a function does not have a return statement what is the return value of a call to the function?\n",
    "Ans: If there is no return statement for a function its return value is none."
   ]
  },
  {
   "cell_type": "code",
   "execution_count": null,
   "id": "8e7508f0",
   "metadata": {},
   "outputs": [],
   "source": [
    "9. how do you make a function variable refer to the global variable?\n",
    "Ans:  A global statment will force a variable in a function to refer to the global variable."
   ]
  },
  {
   "cell_type": "code",
   "execution_count": null,
   "id": "6722ae4a",
   "metadata": {},
   "outputs": [],
   "source": [
    "10. What is the data type of none?\n",
    "Ans. The data type of none is none Type."
   ]
  },
  {
   "cell_type": "code",
   "execution_count": null,
   "id": "a714f5fa",
   "metadata": {},
   "outputs": [],
   "source": [
    "11. What does the sentence import areallyourpetsnamederic do?\n",
    "Ans. that import statment imports a module named areallyourpetsnamederic."
   ]
  },
  {
   "cell_type": "code",
   "execution_count": null,
   "id": "af5da4ad",
   "metadata": {},
   "outputs": [],
   "source": [
    "12. If you had a bacon()feature in a spam module, what whould you call it after importing spam?\n",
    "Ans: this function can be called with spam.bacon()."
   ]
  },
  {
   "cell_type": "code",
   "execution_count": null,
   "id": "5bc32be9",
   "metadata": {},
   "outputs": [],
   "source": [
    "13. what can you do to save a programme from crashing if it encounters an error?\n",
    "Ans: Place the line of code that might cause an error in a try clause."
   ]
  },
  {
   "cell_type": "code",
   "execution_count": null,
   "id": "ff020d2b",
   "metadata": {},
   "outputs": [],
   "source": [
    "14. what is the purpose of the try clause? what is the purposr of the except clause?\n",
    "Ans: The code that could potentially cause an error goes in the try claus-\n",
    "     the code that executes if an error happens goes in the except clause."
   ]
  }
 ],
 "metadata": {
  "kernelspec": {
   "display_name": "Python 3",
   "language": "python",
   "name": "python3"
  },
  "language_info": {
   "codemirror_mode": {
    "name": "ipython",
    "version": 3
   },
   "file_extension": ".py",
   "mimetype": "text/x-python",
   "name": "python",
   "nbconvert_exporter": "python",
   "pygments_lexer": "ipython3",
   "version": "3.8.8"
  }
 },
 "nbformat": 4,
 "nbformat_minor": 5
}
